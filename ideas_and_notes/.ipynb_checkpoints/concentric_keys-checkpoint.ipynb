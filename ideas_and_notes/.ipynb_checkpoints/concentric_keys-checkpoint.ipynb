{
 "cells": [
  {
   "cell_type": "code",
   "execution_count": 1,
   "id": "7eec6c21",
   "metadata": {},
   "outputs": [],
   "source": [
    "import matplotlib.pyplot as plt\n",
    "import numpy as np\n",
    "import math"
   ]
  },
  {
   "cell_type": "code",
   "execution_count": 2,
   "id": "1114236e",
   "metadata": {},
   "outputs": [],
   "source": [
    "def concentric(pos, angles, radius):\n",
    "    x = np.cos(angles) * radius + pos[0]\n",
    "    y = np.sin(angles) * radius + pos[1]\n",
    "    return [x, y]\n",
    "\n",
    "def concentric_flipped(pos, angles, radius):\n",
    "    positions = concentric(pos, angles, radius)\n",
    "    mid = int(np.floor(len(angles)/2))\n",
    "    for i in range(1, mid+1):\n",
    "        positions[0][mid - i] = positions[0][-i]\n",
    "        positions[1][mid - i] = positions[1][-i]\n",
    "        positions[0][-i] = 1.0 - positions[0][-i]\n",
    "        \n",
    "    return positions\n"
   ]
  },
  {
   "cell_type": "code",
   "execution_count": 3,
   "id": "f930360f",
   "metadata": {},
   "outputs": [],
   "source": [
    "def angles_intersect(radius, cx, cy, x, y):\n",
    "    return angle1, angle2\n",
    "\n",
    "def circle_intersection_angle_min(radius, cx, cy, x=0, y=1):\n",
    "    dy = y-cy\n",
    "    dx = x-cx\n",
    "    #case 1\n",
    "    dx_sq = radius**2 - dy**2\n",
    "    angle1 = math.atan(dy/math.sqrt(dx_sq)) if dx_sq > 0 else math.pi\n",
    "    #case 2\n",
    "    dy_sq = radius**2 - dx**2\n",
    "    angle2 = math.atan(math.sqrt(dy_sq)/dx) if dy_sq > 0 else math.pi\n",
    "    \n",
    "    return min(angle1, angle2)\n",
    "\n",
    "def circle_intersection_angle_max(radius, cx, cy, x=0, y=1):\n",
    "    dy = y-cy\n",
    "    dx = x-cx\n",
    "    #case 1\n",
    "    dx_sq = radius**2 - dy**2\n",
    "    angle1 = math.atan(dy/math.sqrt(dx_sq)) if dx_sq > 0 else -math.pi\n",
    "    #case 2\n",
    "    dy_sq = radius**2 - dx**2\n",
    "    angle2 = math.atan(math.sqrt(dy_sq)/dx) if dy_sq > 0 else -math.pi\n",
    "    \n",
    "    return max(angle1, angle2)\n",
    "\n"
   ]
  },
  {
   "cell_type": "code",
   "execution_count": 4,
   "id": "90857917",
   "metadata": {},
   "outputs": [
    {
     "data": {
      "text/plain": [
       "[<matplotlib.lines.Line2D at 0x24df4c551c0>]"
      ]
     },
     "execution_count": 4,
     "metadata": {},
     "output_type": "execute_result"
    },
    {
     "data": {
      "image/png": "[encoded data removed]",
      "text/plain": [
       "<Figure size 432x288 with 1 Axes>"
      ]
     },
     "metadata": {
      "needs_background": "light"
     },
     "output_type": "display_data"
    }
   ],
   "source": [
    "r1 = 1.1\n",
    "r2 = 0.6\n",
    "pos = np.array([-0.45, 0.28])\n",
    "\n",
    "a1 = circle_intersection_angle_min(r1, pos[0], pos[1], 0, 1)\n",
    "a2 = circle_intersection_angle_min(r2, pos[0], pos[1], 0, 1)\n",
    "\n",
    "a3 = circle_intersection_angle_max(r1, pos[0], pos[1], 0.5, 0)\n",
    "a4 = circle_intersection_angle_max(r2, pos[0], pos[1], 0.5, 0)\n",
    "\n",
    "angles1 = np.linspace(a1, a3, 10)\n",
    "angles2 = np.linspace(a2, a4, 10)\n",
    "\n",
    "positions1 = concentric(pos, angles1, r1)\n",
    "positions2 = concentric(pos, angles2, r2)\n",
    "\n",
    "plt.gca().set_aspect('equal')\n",
    "plt.xlim(-0.2, 1.2)\n",
    "plt.ylim(-0.2, 1.2)\n",
    "plt.plot(positions1[0], positions1[1], \"o\")\n",
    "plt.plot(positions2[0], positions2[1], \"o\")"
   ]
  },
  {
   "cell_type": "code",
   "execution_count": 27,
   "id": "0310cbbe",
   "metadata": {},
   "outputs": [
    {
     "name": "stdout",
     "output_type": "stream",
     "text": [
      "Generated 4+8+10+10+8+4 = 44\n"
     ]
    },
    {
     "data": {
      "image/png": "[encoded data removed]",
      "text/plain": [
       "<Figure size 432x288 with 1 Axes>"
      ]
     },
     "metadata": {
      "needs_background": "light"
     },
     "output_type": "display_data"
    }
   ],
   "source": [
    "import matplotlib.pyplot as plt\n",
    "import numpy as np\n",
    "import math\n",
    "\n",
    "def concentric(pos, angles, radius):\n",
    "    x = np.cos(angles) * radius + pos[0]\n",
    "    y = np.sin(angles) * radius + pos[1]\n",
    "    return [x, y]\n",
    "\n",
    "def circle_intersection_angle_min(radius, cx, cy, x=0, y=1):\n",
    "    dy = y-cy\n",
    "    dx = x-cx\n",
    "    #case 1\n",
    "    dx_sq = radius**2 - dy**2\n",
    "    angle1 = math.atan(dy/math.sqrt(dx_sq)) if dx_sq > 0 else math.pi\n",
    "    #case 2\n",
    "    dy_sq = radius**2 - dx**2\n",
    "    angle2 = math.atan(math.sqrt(dy_sq)/dx) if dy_sq > 0 else math.pi\n",
    "    \n",
    "    return min(angle1, angle2)\n",
    "\n",
    "def circle_intersection_angle_max(radius, cx, cy, x=0, y=1):\n",
    "    dy = y-cy\n",
    "    dx = x-cx\n",
    "    #case 1\n",
    "    dx_sq = radius**2 - dy**2\n",
    "    angle1 = math.atan(dy/math.sqrt(dx_sq)) if dx_sq > 0 else -math.pi\n",
    "    #case 2\n",
    "    dy_sq = radius**2 - dx**2\n",
    "    angle2 = math.atan(math.sqrt(dy_sq)/dx) if dy_sq > 0 else -math.pi\n",
    "    \n",
    "    return max(angle1, angle2)\n",
    "\n",
    "def generate_key_positions(radii, numbers, pos, reflection_x=False, x1=0, y1=1, x2=1, y2=0):\n",
    "    if reflection_x:\n",
    "        x2 = (x1 + x2)*0.5\n",
    "    \n",
    "    x_values = []\n",
    "    y_values = []\n",
    "    counts = []\n",
    "    \n",
    "    for r, n in zip(radii, numbers):\n",
    "        a1 = circle_intersection_angle_min(r, pos[0], pos[1], x1, y1)\n",
    "        a2 = circle_intersection_angle_max(r, pos[0], pos[1], x2, y2)\n",
    "        angles = np.linspace(a1, a2, n)\n",
    "        x, y = concentric(pos, angles, r)        \n",
    "        \n",
    "        if reflection_x:\n",
    "            x_flipped = x2*2 - x\n",
    "            x = np.concatenate([x, x_flipped], axis=0)\n",
    "            y = np.concatenate([y, y], axis=0)\n",
    "       \n",
    "        counts.append(len(x))\n",
    "        x_values.append(x)\n",
    "        y_values.append(y)        \n",
    "    \n",
    "    print(f\"Generated {'+'.join(map(str, counts))} = {sum(counts)}\")\n",
    "    return x_values, y_values\n",
    "    \n",
    "# x1, y1 is top left corner\n",
    "def plot(radii, numbers, pos, reflection_x=False, x1=0, y1=1, x2=1, y2=0):\n",
    "    \n",
    "    x_values, y_values = generate_key_positions(radii, numbers, pos, reflection_x, x1, y1, x2, y2)\n",
    "\n",
    "    plt.gca().set_aspect('equal')\n",
    "    plt.xlim(-0.2, 1.2)\n",
    "    plt.ylim(-0.2, 1.2)\n",
    "\n",
    "    # keys\n",
    "    for x, y in zip(x_values, y_values):    \n",
    "        plt.plot(x, y, \"o\")\n",
    "\n",
    "    # border\n",
    "    plt.plot([x1, x1, x2, x2, x1], [y1, y2, y2, y1, y1])\n",
    "        \n",
    "r = [0.75, 0.87, 0.99, 1.11, 1.23, 1.35]\n",
    "n = [2, 4, 5, 5, 4, 2]\n",
    "\n",
    "pos = np.array([-0.55, 0.0])\n",
    "plot(r, n, pos, True)"
   ]
  },
  {
   "cell_type": "code",
   "execution_count": 28,
   "id": "6c68e6e4",
   "metadata": {},
   "outputs": [
    {
     "name": "stdout",
     "output_type": "stream",
     "text": [
      "Generated 4+6+10+8+6+4 = 38\n"
     ]
    },
    {
     "data": {
      "image/png": "[encoded data removed]",
      "text/plain": [
       "<Figure size 432x288 with 1 Axes>"
      ]
     },
     "metadata": {
      "needs_background": "light"
     },
     "output_type": "display_data"
    }
   ],
   "source": [
    "r = [0.75, 0.87, 0.99, 1.11, 1.23, 1.35]\n",
    "n = [2, 3, 5, 4, 3, 2]\n",
    "pos = np.array([-0.55, 0.0])\n",
    "\n",
    "plot(r, n, pos, True)"
   ]
  },
  {
   "cell_type": "code",
   "execution_count": 29,
   "id": "fd285860",
   "metadata": {},
   "outputs": [
    {
     "name": "stdout",
     "output_type": "stream",
     "text": [
      "Generated 8+10+10+6+2 = 36\n"
     ]
    },
    {
     "data": {
      "image/png": "[encoded data removed]",
      "text/plain": [
       "<Figure size 432x288 with 1 Axes>"
      ]
     },
     "metadata": {
      "needs_background": "light"
     },
     "output_type": "display_data"
    }
   ],
   "source": [
    "# this one is used for now!\n",
    "r = [0.76, 0.90, 1.031, 1.15, 1.268]\n",
    "n = [4, 5, 5, 3, 1]\n",
    "\n",
    "h = 15.0/17\n",
    "\n",
    "pos = np.array([-0.57, 0.06])\n",
    "plot(r, n, pos, True, 0.05, h - 0.05, 0.95, 0.05)"
   ]
  },
  {
   "cell_type": "code",
   "execution_count": 43,
   "id": "916add91",
   "metadata": {},
   "outputs": [],
   "source": [
    "def generate_kotlin_code(r, n, pos):\n",
    "    code = \"\"\n",
    "    code += f\"val thumbPosition = Vec2({pos[0]}, {pos[1]})\\n\"\n",
    "    code += f\"val radii = listOf({', '.join(r)})\\n\"\n",
    "    code += f\"val numbers = listOf({', '.join(n)})\\n\" \n",
    "    return code"
   ]
  },
  {
   "cell_type": "code",
   "execution_count": 44,
   "id": "23525ac3",
   "metadata": {},
   "outputs": [
    {
     "name": "stdout",
     "output_type": "stream",
     "text": [
      "Generated 8+12+14+8+4 = 46\n"
     ]
    },
    {
     "data": {
      "image/png": "[encoded data removed]",
      "text/plain": [
       "<Figure size 432x288 with 1 Axes>"
      ]
     },
     "metadata": {
      "needs_background": "light"
     },
     "output_type": "display_data"
    }
   ],
   "source": [
    "r = [0.76, 0.90, 1.031, 1.15, 1.268]\n",
    "n = [4, 6, 7, 4, 2]\n",
    "h = 15.0/17\n",
    "\n",
    "pos = np.array([-0.57, 0.06])\n",
    "plot(r, n, pos, True, 0.05, h - 0.05, 0.95, 0.05)"
   ]
  },
  {
   "cell_type": "code",
   "execution_count": 45,
   "id": "1ec5e91d",
   "metadata": {},
   "outputs": [
    {
     "ename": "TypeError",
     "evalue": "sequence item 0: expected str instance, float found",
     "output_type": "error",
     "traceback": [
      "\u001b[1;31m---------------------------------------------------------------------------\u001b[0m",
      "\u001b[1;31mTypeError\u001b[0m                                 Traceback (most recent call last)",
      "Input \u001b[1;32mIn [45]\u001b[0m, in \u001b[0;36m<cell line: 1>\u001b[1;34m()\u001b[0m\n\u001b[1;32m----> 1\u001b[0m \u001b[38;5;28mprint\u001b[39m(\u001b[43mgenerate_kotlin_code\u001b[49m\u001b[43m(\u001b[49m\u001b[43mr\u001b[49m\u001b[43m,\u001b[49m\u001b[43m \u001b[49m\u001b[43mn\u001b[49m\u001b[43m,\u001b[49m\u001b[43m \u001b[49m\u001b[43mpos\u001b[49m\u001b[43m)\u001b[49m)\n",
      "Input \u001b[1;32mIn [43]\u001b[0m, in \u001b[0;36mgenerate_kotlin_code\u001b[1;34m(r, n, pos)\u001b[0m\n\u001b[0;32m      2\u001b[0m code \u001b[38;5;241m=\u001b[39m \u001b[38;5;124m\"\u001b[39m\u001b[38;5;124m\"\u001b[39m\n\u001b[0;32m      3\u001b[0m code \u001b[38;5;241m+\u001b[39m\u001b[38;5;241m=\u001b[39m \u001b[38;5;124mf\u001b[39m\u001b[38;5;124m\"\u001b[39m\u001b[38;5;124mval thumbPosition = Vec2(\u001b[39m\u001b[38;5;132;01m{\u001b[39;00mpos[\u001b[38;5;241m0\u001b[39m]\u001b[38;5;132;01m}\u001b[39;00m\u001b[38;5;124m, \u001b[39m\u001b[38;5;132;01m{\u001b[39;00mpos[\u001b[38;5;241m1\u001b[39m]\u001b[38;5;132;01m}\u001b[39;00m\u001b[38;5;124m)\u001b[39m\u001b[38;5;130;01m\\n\u001b[39;00m\u001b[38;5;124m\"\u001b[39m\n\u001b[1;32m----> 4\u001b[0m code \u001b[38;5;241m+\u001b[39m\u001b[38;5;241m=\u001b[39m \u001b[38;5;124mf\u001b[39m\u001b[38;5;124m\"\u001b[39m\u001b[38;5;124mval radii = listOf(\u001b[39m\u001b[38;5;132;01m{\u001b[39;00m\u001b[38;5;124m'\u001b[39m\u001b[38;5;124m, \u001b[39m\u001b[38;5;124m'\u001b[39m\u001b[38;5;241m.\u001b[39mjoin(r)\u001b[38;5;132;01m}\u001b[39;00m\u001b[38;5;124m)\u001b[39m\u001b[38;5;130;01m\\n\u001b[39;00m\u001b[38;5;124m\"\u001b[39m\n\u001b[0;32m      5\u001b[0m code \u001b[38;5;241m+\u001b[39m\u001b[38;5;241m=\u001b[39m \u001b[38;5;124mf\u001b[39m\u001b[38;5;124m\"\u001b[39m\u001b[38;5;124mval numbers = listOf(\u001b[39m\u001b[38;5;132;01m{\u001b[39;00m\u001b[38;5;124m'\u001b[39m\u001b[38;5;124m, \u001b[39m\u001b[38;5;124m'\u001b[39m\u001b[38;5;241m.\u001b[39mjoin(n)\u001b[38;5;132;01m}\u001b[39;00m\u001b[38;5;124m)\u001b[39m\u001b[38;5;130;01m\\n\u001b[39;00m\u001b[38;5;124m\"\u001b[39m \n\u001b[0;32m      6\u001b[0m \u001b[38;5;28;01mreturn\u001b[39;00m code\n",
      "\u001b[1;31mTypeError\u001b[0m: sequence item 0: expected str instance, float found"
     ]
    }
   ],
   "source": [
    "print(generate_kotlin_code(r, n, pos))\n"
   ]
  },
  {
   "cell_type": "code",
   "execution_count": 47,
   "id": "3bbdc73a",
   "metadata": {},
   "outputs": [
    {
     "data": {
      "text/plain": [
       "'1.34534534534534'"
      ]
     },
     "execution_count": 47,
     "metadata": {},
     "output_type": "execute_result"
    }
   ],
   "source": []
  },
  {
   "cell_type": "code",
   "execution_count": null,
   "id": "635eacf6",
   "metadata": {},
   "outputs": [],
   "source": []
  }
 ],
 "metadata": {
  "kernelspec": {
   "display_name": "Python 3 (ipykernel)",
   "language": "python",
   "name": "python3"
  },
  "language_info": {
   "codemirror_mode": {
    "name": "ipython",
    "version": 3
   },
   "file_extension": ".py",
   "mimetype": "text/x-python",
   "name": "python",
   "nbconvert_exporter": "python",
   "pygments_lexer": "ipython3",
   "version": "3.9.12"
  }
 },
 "nbformat": 4,
 "nbformat_minor": 5
}
